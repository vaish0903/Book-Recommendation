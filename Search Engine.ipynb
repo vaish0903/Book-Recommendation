{
 "cells": [
  {
   "cell_type": "markdown",
   "id": "892cfa98",
   "metadata": {},
   "source": [
    "# Importing the file\n",
    "####Through gzip so that it doesnt take a lot of memory."
   ]
  },
  {
   "cell_type": "code",
   "execution_count": 1,
   "id": "20040ea2",
   "metadata": {},
   "outputs": [],
   "source": [
    "import gzip\n",
    "\n",
    "with gzip.open(r\"C:\\Users\\91702\\Downloads\\goodreads_books.json.gz\") as f:\n",
    "    line = f.readline()"
   ]
  },
  {
   "cell_type": "code",
   "execution_count": 2,
   "id": "2c14cafe",
   "metadata": {
    "scrolled": true
   },
   "outputs": [
    {
     "data": {
      "text/plain": [
       "b'{\"isbn\": \"0312853122\", \"text_reviews_count\": \"1\", \"series\": [], \"country_code\": \"US\", \"language_code\": \"\", \"popular_shelves\": [{\"count\": \"3\", \"name\": \"to-read\"}, {\"count\": \"1\", \"name\": \"p\"}, {\"count\": \"1\", \"name\": \"collection\"}, {\"count\": \"1\", \"name\": \"w-c-fields\"}, {\"count\": \"1\", \"name\": \"biography\"}], \"asin\": \"\", \"is_ebook\": \"false\", \"average_rating\": \"4.00\", \"kindle_asin\": \"\", \"similar_books\": [], \"description\": \"\", \"format\": \"Paperback\", \"link\": \"https://www.goodreads.com/book/show/5333265-w-c-fields\", \"authors\": [{\"author_id\": \"604031\", \"role\": \"\"}], \"publisher\": \"St. Martin\\'s Press\", \"num_pages\": \"256\", \"publication_day\": \"1\", \"isbn13\": \"9780312853129\", \"publication_month\": \"9\", \"edition_information\": \"\", \"publication_year\": \"1984\", \"url\": \"https://www.goodreads.com/book/show/5333265-w-c-fields\", \"image_url\": \"https://images.gr-assets.com/books/1310220028m/5333265.jpg\", \"book_id\": \"5333265\", \"ratings_count\": \"3\", \"work_id\": \"5400751\", \"title\": \"W.C. Fields: A Life on Film\", \"title_without_series\": \"W.C. Fields: A Life on Film\"}\\n'"
      ]
     },
     "execution_count": 2,
     "metadata": {},
     "output_type": "execute_result"
    }
   ],
   "source": [
    "line"
   ]
  },
  {
   "cell_type": "markdown",
   "id": "baf1f071",
   "metadata": {},
   "source": [
    "### Importing json"
   ]
  },
  {
   "cell_type": "code",
   "execution_count": 3,
   "id": "acb61a3c",
   "metadata": {},
   "outputs": [
    {
     "data": {
      "text/plain": [
       "{'isbn': '0312853122',\n",
       " 'text_reviews_count': '1',\n",
       " 'series': [],\n",
       " 'country_code': 'US',\n",
       " 'language_code': '',\n",
       " 'popular_shelves': [{'count': '3', 'name': 'to-read'},\n",
       "  {'count': '1', 'name': 'p'},\n",
       "  {'count': '1', 'name': 'collection'},\n",
       "  {'count': '1', 'name': 'w-c-fields'},\n",
       "  {'count': '1', 'name': 'biography'}],\n",
       " 'asin': '',\n",
       " 'is_ebook': 'false',\n",
       " 'average_rating': '4.00',\n",
       " 'kindle_asin': '',\n",
       " 'similar_books': [],\n",
       " 'description': '',\n",
       " 'format': 'Paperback',\n",
       " 'link': 'https://www.goodreads.com/book/show/5333265-w-c-fields',\n",
       " 'authors': [{'author_id': '604031', 'role': ''}],\n",
       " 'publisher': \"St. Martin's Press\",\n",
       " 'num_pages': '256',\n",
       " 'publication_day': '1',\n",
       " 'isbn13': '9780312853129',\n",
       " 'publication_month': '9',\n",
       " 'edition_information': '',\n",
       " 'publication_year': '1984',\n",
       " 'url': 'https://www.goodreads.com/book/show/5333265-w-c-fields',\n",
       " 'image_url': 'https://images.gr-assets.com/books/1310220028m/5333265.jpg',\n",
       " 'book_id': '5333265',\n",
       " 'ratings_count': '3',\n",
       " 'work_id': '5400751',\n",
       " 'title': 'W.C. Fields: A Life on Film',\n",
       " 'title_without_series': 'W.C. Fields: A Life on Film'}"
      ]
     },
     "execution_count": 3,
     "metadata": {},
     "output_type": "execute_result"
    }
   ],
   "source": [
    "import json\n",
    "\n",
    "json.loads(line)"
   ]
  },
  {
   "cell_type": "markdown",
   "id": "7093a711",
   "metadata": {},
   "source": [
    "### Writing a fn for choosing desired data"
   ]
  },
  {
   "cell_type": "code",
   "execution_count": 4,
   "id": "99f339f7",
   "metadata": {},
   "outputs": [],
   "source": [
    "def parse_fields(line):\n",
    "    data = json.loads(line)\n",
    "    return {\n",
    "        \"book_id\": data[\"book_id\"], \n",
    "        \"title\": data[\"title_without_series\"], \n",
    "        \"ratings\": data[\"ratings_count\"], \n",
    "        \"url\": data[\"url\"], \n",
    "        \"cover_image\": data[\"image_url\"]\n",
    "    }"
   ]
  },
  {
   "cell_type": "markdown",
   "id": "248f7ca4",
   "metadata": {},
   "source": [
    "### Function for choosing rating count above 15 only "
   ]
  },
  {
   "cell_type": "code",
   "execution_count": 5,
   "id": "f760866b",
   "metadata": {},
   "outputs": [],
   "source": [
    "books_titles = []\n",
    "with gzip.open(r\"C:\\Users\\91702\\Downloads\\goodreads_books.json.gz\") as f:\n",
    "    while True:\n",
    "        line = f.readline()\n",
    "        if not line:\n",
    "            break\n",
    "        fields = parse_fields(line)\n",
    "        try:\n",
    "            ratings = int(fields[\"ratings\"])\n",
    "        except ValueError:\n",
    "            continue\n",
    "        if ratings > 15:\n",
    "            books_titles.append(fields)"
   ]
  },
  {
   "cell_type": "markdown",
   "id": "2b078c01",
   "metadata": {},
   "source": [
    "#### Creating a DataFrame"
   ]
  },
  {
   "cell_type": "code",
   "execution_count": 6,
   "id": "67a30b56",
   "metadata": {},
   "outputs": [],
   "source": [
    "import pandas as pd\n",
    "titles = pd.DataFrame.from_dict(books_titles)"
   ]
  },
  {
   "cell_type": "code",
   "execution_count": 7,
   "id": "59f63d72",
   "metadata": {},
   "outputs": [
    {
     "data": {
      "text/plain": [
       "dtype('O')"
      ]
     },
     "execution_count": 7,
     "metadata": {},
     "output_type": "execute_result"
    }
   ],
   "source": [
    "titles.head()\n",
    "titles[\"ratings\"].dtype"
   ]
  },
  {
   "cell_type": "code",
   "execution_count": 8,
   "id": "475fba93",
   "metadata": {},
   "outputs": [
    {
     "data": {
      "text/plain": [
       "dtype('int64')"
      ]
     },
     "execution_count": 8,
     "metadata": {},
     "output_type": "execute_result"
    }
   ],
   "source": [
    "titles[\"ratings\"] = pd.to_numeric(titles[\"ratings\"])\n",
    "titles[\"ratings\"].dtype"
   ]
  },
  {
   "cell_type": "markdown",
   "id": "e9d4dc0f",
   "metadata": {},
   "source": [
    "####  Preprocessing the book title, to avoid search problems"
   ]
  },
  {
   "cell_type": "code",
   "execution_count": 9,
   "id": "d3435243",
   "metadata": {},
   "outputs": [],
   "source": [
    "#  titles will be like:\n",
    "# HARRY POTTER\n",
    "# Harry Potter\n",
    "# harry potter\n",
    "# Harry-PottER\n",
    "# w/o preprocessing model will treat this as different thiings\n",
    "# replacing any character such as (,-,/,. with nothing"
   ]
  },
  {
   "cell_type": "code",
   "execution_count": 10,
   "id": "4365064a",
   "metadata": {},
   "outputs": [],
   "source": [
    "titles[\"mod_title\"] = titles[\"title\"].str.replace(\"[^a-zA-Z0-9]\",\" \",regex=True)"
   ]
  },
  {
   "cell_type": "code",
   "execution_count": 11,
   "id": "d5ce2e0a",
   "metadata": {},
   "outputs": [
    {
     "data": {
      "text/html": [
       "<div>\n",
       "<style scoped>\n",
       "    .dataframe tbody tr th:only-of-type {\n",
       "        vertical-align: middle;\n",
       "    }\n",
       "\n",
       "    .dataframe tbody tr th {\n",
       "        vertical-align: top;\n",
       "    }\n",
       "\n",
       "    .dataframe thead th {\n",
       "        text-align: right;\n",
       "    }\n",
       "</style>\n",
       "<table border=\"1\" class=\"dataframe\">\n",
       "  <thead>\n",
       "    <tr style=\"text-align: right;\">\n",
       "      <th></th>\n",
       "      <th>book_id</th>\n",
       "      <th>title</th>\n",
       "      <th>ratings</th>\n",
       "      <th>url</th>\n",
       "      <th>cover_image</th>\n",
       "      <th>mod_title</th>\n",
       "    </tr>\n",
       "  </thead>\n",
       "  <tbody>\n",
       "    <tr>\n",
       "      <th>0</th>\n",
       "      <td>7327624</td>\n",
       "      <td>The Unschooled Wizard (Sun Wolf and Starhawk, ...</td>\n",
       "      <td>140</td>\n",
       "      <td>https://www.goodreads.com/book/show/7327624-th...</td>\n",
       "      <td>https://images.gr-assets.com/books/1304100136m...</td>\n",
       "      <td>The Unschooled Wizard  Sun Wolf and Starhawk  ...</td>\n",
       "    </tr>\n",
       "    <tr>\n",
       "      <th>1</th>\n",
       "      <td>6066819</td>\n",
       "      <td>Best Friends Forever</td>\n",
       "      <td>51184</td>\n",
       "      <td>https://www.goodreads.com/book/show/6066819-be...</td>\n",
       "      <td>https://s.gr-assets.com/assets/nophoto/book/11...</td>\n",
       "      <td>Best Friends Forever</td>\n",
       "    </tr>\n",
       "    <tr>\n",
       "      <th>2</th>\n",
       "      <td>287141</td>\n",
       "      <td>The Aeneid for Boys and Girls</td>\n",
       "      <td>46</td>\n",
       "      <td>https://www.goodreads.com/book/show/287141.The...</td>\n",
       "      <td>https://s.gr-assets.com/assets/nophoto/book/11...</td>\n",
       "      <td>The Aeneid for Boys and Girls</td>\n",
       "    </tr>\n",
       "    <tr>\n",
       "      <th>3</th>\n",
       "      <td>6066812</td>\n",
       "      <td>All's Fairy in Love and War (Avalon: Web of Ma...</td>\n",
       "      <td>98</td>\n",
       "      <td>https://www.goodreads.com/book/show/6066812-al...</td>\n",
       "      <td>https://images.gr-assets.com/books/1316637798m...</td>\n",
       "      <td>All s Fairy in Love and War  Avalon  Web of Ma...</td>\n",
       "    </tr>\n",
       "    <tr>\n",
       "      <th>4</th>\n",
       "      <td>287149</td>\n",
       "      <td>The Devil's Notebook</td>\n",
       "      <td>986</td>\n",
       "      <td>https://www.goodreads.com/book/show/287149.The...</td>\n",
       "      <td>https://images.gr-assets.com/books/1328768789m...</td>\n",
       "      <td>The Devil s Notebook</td>\n",
       "    </tr>\n",
       "  </tbody>\n",
       "</table>\n",
       "</div>"
      ],
      "text/plain": [
       "   book_id                                              title  ratings  \\\n",
       "0  7327624  The Unschooled Wizard (Sun Wolf and Starhawk, ...      140   \n",
       "1  6066819                               Best Friends Forever    51184   \n",
       "2   287141                      The Aeneid for Boys and Girls       46   \n",
       "3  6066812  All's Fairy in Love and War (Avalon: Web of Ma...       98   \n",
       "4   287149                               The Devil's Notebook      986   \n",
       "\n",
       "                                                 url  \\\n",
       "0  https://www.goodreads.com/book/show/7327624-th...   \n",
       "1  https://www.goodreads.com/book/show/6066819-be...   \n",
       "2  https://www.goodreads.com/book/show/287141.The...   \n",
       "3  https://www.goodreads.com/book/show/6066812-al...   \n",
       "4  https://www.goodreads.com/book/show/287149.The...   \n",
       "\n",
       "                                         cover_image  \\\n",
       "0  https://images.gr-assets.com/books/1304100136m...   \n",
       "1  https://s.gr-assets.com/assets/nophoto/book/11...   \n",
       "2  https://s.gr-assets.com/assets/nophoto/book/11...   \n",
       "3  https://images.gr-assets.com/books/1316637798m...   \n",
       "4  https://images.gr-assets.com/books/1328768789m...   \n",
       "\n",
       "                                           mod_title  \n",
       "0  The Unschooled Wizard  Sun Wolf and Starhawk  ...  \n",
       "1                               Best Friends Forever  \n",
       "2                      The Aeneid for Boys and Girls  \n",
       "3  All s Fairy in Love and War  Avalon  Web of Ma...  \n",
       "4                               The Devil s Notebook  "
      ]
     },
     "execution_count": 11,
     "metadata": {},
     "output_type": "execute_result"
    }
   ],
   "source": [
    "titles.head()"
   ]
  },
  {
   "cell_type": "code",
   "execution_count": 12,
   "id": "f9d5fa50",
   "metadata": {},
   "outputs": [],
   "source": [
    "titles[\"mod_title\"] = titles[\"mod_title\"].str.lower()"
   ]
  },
  {
   "cell_type": "code",
   "execution_count": 13,
   "id": "3416e1ee",
   "metadata": {},
   "outputs": [],
   "source": [
    "# Removing more than one spaces\n",
    "titles[\"mod_title\"] = titles[\"mod_title\"].str.replace(\"\\s+\",\" \",regex=True)"
   ]
  },
  {
   "cell_type": "code",
   "execution_count": 14,
   "id": "80bae579",
   "metadata": {},
   "outputs": [],
   "source": [
    "# DROPPING NULL TITLES\n",
    "titles = titles[titles[\"mod_title\"].str.len() > 0]"
   ]
  },
  {
   "cell_type": "code",
   "execution_count": 15,
   "id": "d03c4d4b",
   "metadata": {},
   "outputs": [],
   "source": [
    "titles.to_json(\"book_titles.json\")"
   ]
  },
  {
   "cell_type": "code",
   "execution_count": 16,
   "id": "00d0b4e2",
   "metadata": {
    "scrolled": true
   },
   "outputs": [
    {
     "data": {
      "text/html": [
       "<div>\n",
       "<style scoped>\n",
       "    .dataframe tbody tr th:only-of-type {\n",
       "        vertical-align: middle;\n",
       "    }\n",
       "\n",
       "    .dataframe tbody tr th {\n",
       "        vertical-align: top;\n",
       "    }\n",
       "\n",
       "    .dataframe thead th {\n",
       "        text-align: right;\n",
       "    }\n",
       "</style>\n",
       "<table border=\"1\" class=\"dataframe\">\n",
       "  <thead>\n",
       "    <tr style=\"text-align: right;\">\n",
       "      <th></th>\n",
       "      <th>book_id</th>\n",
       "      <th>title</th>\n",
       "      <th>ratings</th>\n",
       "      <th>url</th>\n",
       "      <th>cover_image</th>\n",
       "      <th>mod_title</th>\n",
       "    </tr>\n",
       "  </thead>\n",
       "  <tbody>\n",
       "    <tr>\n",
       "      <th>0</th>\n",
       "      <td>7327624</td>\n",
       "      <td>The Unschooled Wizard (Sun Wolf and Starhawk, ...</td>\n",
       "      <td>140</td>\n",
       "      <td>https://www.goodreads.com/book/show/7327624-th...</td>\n",
       "      <td>https://images.gr-assets.com/books/1304100136m...</td>\n",
       "      <td>the unschooled wizard sun wolf and starhawk 1 2</td>\n",
       "    </tr>\n",
       "    <tr>\n",
       "      <th>1</th>\n",
       "      <td>6066819</td>\n",
       "      <td>Best Friends Forever</td>\n",
       "      <td>51184</td>\n",
       "      <td>https://www.goodreads.com/book/show/6066819-be...</td>\n",
       "      <td>https://s.gr-assets.com/assets/nophoto/book/11...</td>\n",
       "      <td>best friends forever</td>\n",
       "    </tr>\n",
       "    <tr>\n",
       "      <th>2</th>\n",
       "      <td>287141</td>\n",
       "      <td>The Aeneid for Boys and Girls</td>\n",
       "      <td>46</td>\n",
       "      <td>https://www.goodreads.com/book/show/287141.The...</td>\n",
       "      <td>https://s.gr-assets.com/assets/nophoto/book/11...</td>\n",
       "      <td>the aeneid for boys and girls</td>\n",
       "    </tr>\n",
       "    <tr>\n",
       "      <th>3</th>\n",
       "      <td>6066812</td>\n",
       "      <td>All's Fairy in Love and War (Avalon: Web of Ma...</td>\n",
       "      <td>98</td>\n",
       "      <td>https://www.goodreads.com/book/show/6066812-al...</td>\n",
       "      <td>https://images.gr-assets.com/books/1316637798m...</td>\n",
       "      <td>all s fairy in love and war avalon web of magi...</td>\n",
       "    </tr>\n",
       "    <tr>\n",
       "      <th>4</th>\n",
       "      <td>287149</td>\n",
       "      <td>The Devil's Notebook</td>\n",
       "      <td>986</td>\n",
       "      <td>https://www.goodreads.com/book/show/287149.The...</td>\n",
       "      <td>https://images.gr-assets.com/books/1328768789m...</td>\n",
       "      <td>the devil s notebook</td>\n",
       "    </tr>\n",
       "  </tbody>\n",
       "</table>\n",
       "</div>"
      ],
      "text/plain": [
       "   book_id                                              title  ratings  \\\n",
       "0  7327624  The Unschooled Wizard (Sun Wolf and Starhawk, ...      140   \n",
       "1  6066819                               Best Friends Forever    51184   \n",
       "2   287141                      The Aeneid for Boys and Girls       46   \n",
       "3  6066812  All's Fairy in Love and War (Avalon: Web of Ma...       98   \n",
       "4   287149                               The Devil's Notebook      986   \n",
       "\n",
       "                                                 url  \\\n",
       "0  https://www.goodreads.com/book/show/7327624-th...   \n",
       "1  https://www.goodreads.com/book/show/6066819-be...   \n",
       "2  https://www.goodreads.com/book/show/287141.The...   \n",
       "3  https://www.goodreads.com/book/show/6066812-al...   \n",
       "4  https://www.goodreads.com/book/show/287149.The...   \n",
       "\n",
       "                                         cover_image  \\\n",
       "0  https://images.gr-assets.com/books/1304100136m...   \n",
       "1  https://s.gr-assets.com/assets/nophoto/book/11...   \n",
       "2  https://s.gr-assets.com/assets/nophoto/book/11...   \n",
       "3  https://images.gr-assets.com/books/1316637798m...   \n",
       "4  https://images.gr-assets.com/books/1328768789m...   \n",
       "\n",
       "                                           mod_title  \n",
       "0   the unschooled wizard sun wolf and starhawk 1 2   \n",
       "1                               best friends forever  \n",
       "2                      the aeneid for boys and girls  \n",
       "3  all s fairy in love and war avalon web of magi...  \n",
       "4                               the devil s notebook  "
      ]
     },
     "execution_count": 16,
     "metadata": {},
     "output_type": "execute_result"
    }
   ],
   "source": [
    "titles.head()"
   ]
  },
  {
   "cell_type": "markdown",
   "id": "cc9f99c2",
   "metadata": {},
   "source": [
    "###  Importing vectorizer\n",
    "Term Frequency, inverse document frequency, is used to convert titles into numbers and compare them. Its useful in search engines."
   ]
  },
  {
   "cell_type": "code",
   "execution_count": 17,
   "id": "64bcf93d",
   "metadata": {},
   "outputs": [],
   "source": [
    "from sklearn.feature_extraction.text import TfidfVectorizer\n",
    "vectorizer = TfidfVectorizer()"
   ]
  },
  {
   "cell_type": "code",
   "execution_count": 18,
   "id": "640995cd",
   "metadata": {},
   "outputs": [],
   "source": [
    "# CREATING A TFIDF FOR MODTITLE\n",
    "tfidf = vectorizer.fit_transform(titles[\"mod_title\"])\n"
   ]
  },
  {
   "cell_type": "markdown",
   "id": "4b4ee884",
   "metadata": {},
   "source": [
    "#### Importing cosine similarity "
   ]
  },
  {
   "cell_type": "code",
   "execution_count": 19,
   "id": "1633f7e4",
   "metadata": {},
   "outputs": [],
   "source": [
    "# to compare search query and mod title we use cosine similarity\n",
    "# Using numpy arg partition to choose 10 most similar titles"
   ]
  },
  {
   "cell_type": "code",
   "execution_count": 20,
   "id": "472431d6",
   "metadata": {},
   "outputs": [],
   "source": [
    "from sklearn.metrics.pairwise import cosine_similarity\n",
    "import numpy as np\n",
    "import re"
   ]
  },
  {
   "cell_type": "code",
   "execution_count": 39,
   "id": "c1cfbdec",
   "metadata": {},
   "outputs": [],
   "source": [
    "def make_clickable(val):\n",
    "    return '<a target=\"_blank\" href=\"{}\">Goodreads</a>'.format(val,val)\n",
    "def show_image(val):\n",
    "    return '<a href=\"{}\"><img src=\"{}\" width=50></img></a>'.format(val,val)\n",
    "\n",
    "def search(query,vectorizer):\n",
    "    query = query\n",
    "    processed = re.sub(\"[^a-zA-Z0-9]\",\" \",query.lower())\n",
    "    query_vec = vectorizer.transform([processed])\n",
    "    similarity = cosine_similarity(query_vec,tfidf).flatten()\n",
    "    indices = np.argpartition(similarity,-10)[-10:]\n",
    "    results = titles.iloc[indices]\n",
    "    results = results.sort_values(\"ratings\",ascending=False)\n",
    "    return results.head(5).style.format({'url' : make_clickable,'cover_image':show_image})\n"
   ]
  },
  {
   "cell_type": "code",
   "execution_count": 50,
   "id": "84bdb2d3",
   "metadata": {},
   "outputs": [
    {
     "data": {
      "text/html": [
       "<style type=\"text/css\">\n",
       "</style>\n",
       "<table id=\"T_30ad7\">\n",
       "  <thead>\n",
       "    <tr>\n",
       "      <th class=\"blank level0\" >&nbsp;</th>\n",
       "      <th id=\"T_30ad7_level0_col0\" class=\"col_heading level0 col0\" >book_id</th>\n",
       "      <th id=\"T_30ad7_level0_col1\" class=\"col_heading level0 col1\" >title</th>\n",
       "      <th id=\"T_30ad7_level0_col2\" class=\"col_heading level0 col2\" >ratings</th>\n",
       "      <th id=\"T_30ad7_level0_col3\" class=\"col_heading level0 col3\" >url</th>\n",
       "      <th id=\"T_30ad7_level0_col4\" class=\"col_heading level0 col4\" >cover_image</th>\n",
       "      <th id=\"T_30ad7_level0_col5\" class=\"col_heading level0 col5\" >mod_title</th>\n",
       "    </tr>\n",
       "  </thead>\n",
       "  <tbody>\n",
       "    <tr>\n",
       "      <th id=\"T_30ad7_level0_row0\" class=\"row_heading level0 row0\" >95878</th>\n",
       "      <td id=\"T_30ad7_row0_col0\" class=\"data row0 col0\" >20662423</td>\n",
       "      <td id=\"T_30ad7_row0_col1\" class=\"data row0 col1\" >Sherlock: Chronicles</td>\n",
       "      <td id=\"T_30ad7_row0_col2\" class=\"data row0 col2\" >702</td>\n",
       "      <td id=\"T_30ad7_row0_col3\" class=\"data row0 col3\" ><a target=\"_blank\" href=\"https://www.goodreads.com/book/show/20662423-sherlock\">Goodreads</a></td>\n",
       "      <td id=\"T_30ad7_row0_col4\" class=\"data row0 col4\" ><a href=\"https://images.gr-assets.com/books/1406143241m/20662423.jpg\"><img src=\"https://images.gr-assets.com/books/1406143241m/20662423.jpg\" width=50></img></a></td>\n",
       "      <td id=\"T_30ad7_row0_col5\" class=\"data row0 col5\" >sherlock chronicles</td>\n",
       "    </tr>\n",
       "    <tr>\n",
       "      <th id=\"T_30ad7_level0_row1\" class=\"row_heading level0 row1\" >56267</th>\n",
       "      <td id=\"T_30ad7_row1_col0\" class=\"data row1 col0\" >100964</td>\n",
       "      <td id=\"T_30ad7_row1_col1\" class=\"data row1 col1\" >Sherlock in Love</td>\n",
       "      <td id=\"T_30ad7_row1_col2\" class=\"data row1 col2\" >401</td>\n",
       "      <td id=\"T_30ad7_row1_col3\" class=\"data row1 col3\" ><a target=\"_blank\" href=\"https://www.goodreads.com/book/show/100964.Sherlock_in_Love\">Goodreads</a></td>\n",
       "      <td id=\"T_30ad7_row1_col4\" class=\"data row1 col4\" ><a href=\"https://images.gr-assets.com/books/1409594009m/100964.jpg\"><img src=\"https://images.gr-assets.com/books/1409594009m/100964.jpg\" width=50></img></a></td>\n",
       "      <td id=\"T_30ad7_row1_col5\" class=\"data row1 col5\" >sherlock in love</td>\n",
       "    </tr>\n",
       "    <tr>\n",
       "      <th id=\"T_30ad7_level0_row2\" class=\"row_heading level0 row2\" >811567</th>\n",
       "      <td id=\"T_30ad7_row2_col0\" class=\"data row2 col0\" >17316533</td>\n",
       "      <td id=\"T_30ad7_row2_col1\" class=\"data row2 col1\" >Sherlock Bones 1</td>\n",
       "      <td id=\"T_30ad7_row2_col2\" class=\"data row2 col2\" >245</td>\n",
       "      <td id=\"T_30ad7_row2_col3\" class=\"data row2 col3\" ><a target=\"_blank\" href=\"https://www.goodreads.com/book/show/17316533-sherlock-bones-1\">Goodreads</a></td>\n",
       "      <td id=\"T_30ad7_row2_col4\" class=\"data row2 col4\" ><a href=\"https://images.gr-assets.com/books/1365462610m/17316533.jpg\"><img src=\"https://images.gr-assets.com/books/1365462610m/17316533.jpg\" width=50></img></a></td>\n",
       "      <td id=\"T_30ad7_row2_col5\" class=\"data row2 col5\" >sherlock bones 1</td>\n",
       "    </tr>\n",
       "    <tr>\n",
       "      <th id=\"T_30ad7_level0_row3\" class=\"row_heading level0 row3\" >376790</th>\n",
       "      <td id=\"T_30ad7_row3_col0\" class=\"data row3 col0\" >30280513</td>\n",
       "      <td id=\"T_30ad7_row3_col1\" class=\"data row3 col1\" >Sherlock: A Study in Pink (Sherlock, #1)</td>\n",
       "      <td id=\"T_30ad7_row3_col2\" class=\"data row3 col2\" >203</td>\n",
       "      <td id=\"T_30ad7_row3_col3\" class=\"data row3 col3\" ><a target=\"_blank\" href=\"https://www.goodreads.com/book/show/30280513-sherlock\">Goodreads</a></td>\n",
       "      <td id=\"T_30ad7_row3_col4\" class=\"data row3 col4\" ><a href=\"https://images.gr-assets.com/books/1469413888m/30280513.jpg\"><img src=\"https://images.gr-assets.com/books/1469413888m/30280513.jpg\" width=50></img></a></td>\n",
       "      <td id=\"T_30ad7_row3_col5\" class=\"data row3 col5\" >sherlock a study in pink sherlock 1 </td>\n",
       "    </tr>\n",
       "    <tr>\n",
       "      <th id=\"T_30ad7_level0_row4\" class=\"row_heading level0 row4\" >1187288</th>\n",
       "      <td id=\"T_30ad7_row4_col0\" class=\"data row4 col0\" >29223627</td>\n",
       "      <td id=\"T_30ad7_row4_col1\" class=\"data row4 col1\" >Sherlock: The Blind Banker (Sherlock, #2)</td>\n",
       "      <td id=\"T_30ad7_row4_col2\" class=\"data row4 col2\" >138</td>\n",
       "      <td id=\"T_30ad7_row4_col3\" class=\"data row4 col3\" ><a target=\"_blank\" href=\"https://www.goodreads.com/book/show/29223627-sherlock\">Goodreads</a></td>\n",
       "      <td id=\"T_30ad7_row4_col4\" class=\"data row4 col4\" ><a href=\"https://images.gr-assets.com/books/1455884921m/29223627.jpg\"><img src=\"https://images.gr-assets.com/books/1455884921m/29223627.jpg\" width=50></img></a></td>\n",
       "      <td id=\"T_30ad7_row4_col5\" class=\"data row4 col5\" >sherlock the blind banker sherlock 2 </td>\n",
       "    </tr>\n",
       "  </tbody>\n",
       "</table>\n"
      ],
      "text/plain": [
       "<pandas.io.formats.style.Styler at 0x2cd8a8b6b20>"
      ]
     },
     "execution_count": 50,
     "metadata": {},
     "output_type": "execute_result"
    }
   ],
   "source": [
    "search(\"Sherlock\",vectorizer)"
   ]
  },
  {
   "cell_type": "code",
   "execution_count": 51,
   "id": "8b71a722",
   "metadata": {},
   "outputs": [],
   "source": [
    "liked_books = [\"818056\",\"22010842\",\"16050719\",\"18114797\",\"893172\",'20662423']"
   ]
  }
 ],
 "metadata": {
  "kernelspec": {
   "display_name": "Python 3 (ipykernel)",
   "language": "python",
   "name": "python3"
  },
  "language_info": {
   "codemirror_mode": {
    "name": "ipython",
    "version": 3
   },
   "file_extension": ".py",
   "mimetype": "text/x-python",
   "name": "python",
   "nbconvert_exporter": "python",
   "pygments_lexer": "ipython3",
   "version": "3.9.12"
  }
 },
 "nbformat": 4,
 "nbformat_minor": 5
}
